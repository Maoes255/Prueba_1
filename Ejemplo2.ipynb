{
 "cells": [
  {
   "cell_type": "code",
   "execution_count": 12,
   "metadata": {},
   "outputs": [
    {
     "name": "stdout",
     "output_type": "stream",
     "text": [
      "Hola mundo Jupyter\n"
     ]
    }
   ],
   "source": [
    "print(\"Hola mundo Jupyter\")"
   ]
  },
  {
   "cell_type": "code",
   "execution_count": 23,
   "metadata": {},
   "outputs": [
    {
     "name": "stdout",
     "output_type": "stream",
     "text": [
      "<class 'tuple'>\n",
      "<class 'tuple'>\n",
      "2.5\n",
      "10\n"
     ]
    },
    {
     "data": {
      "text/plain": [
       "int"
      ]
     },
     "execution_count": 23,
     "metadata": {},
     "output_type": "execute_result"
    }
   ],
   "source": [
    "velocidadluz=300000\n",
    "PI=3.1416\n",
    "Estrella_sistema_solar=\"sol\"\n",
    "IVA=19 #%\n",
    "Tupla=(1,2,4)\n",
    "Lista=(3,6,12)\n",
    "print(type(Tupla))\n",
    "print(type(Lista))\n",
    "x=10\n",
    "y=2.5\n",
    "print(y)\n",
    "print(x)\n",
    "type(y)\n",
    "type(x)"
   ]
  },
  {
   "cell_type": "code",
   "execution_count": null,
   "metadata": {},
   "outputs": [
    {
     "name": "stdout",
     "output_type": "stream",
     "text": [
      "Verificación de edad\n",
      "Acceso denegado\n",
      "Usted tiene 17 años\n"
     ]
    }
   ],
   "source": [
    "print(\"Verificación de edad\")\n",
    "Edad=int(input('Ingrese su edad'))\n",
    "if Edad<18: \n",
    "    print(\"Acceso denegado\")\n",
    "else: \n",
    "    print(\"Acceso autorizado\")\n",
    "\n",
    "print(f'Usted tiene {Edad} años')"
   ]
  }
 ],
 "metadata": {
  "kernelspec": {
   "display_name": "Python 3",
   "language": "python",
   "name": "python3"
  },
  "language_info": {
   "codemirror_mode": {
    "name": "ipython",
    "version": 3
   },
   "file_extension": ".py",
   "mimetype": "text/x-python",
   "name": "python",
   "nbconvert_exporter": "python",
   "pygments_lexer": "ipython3",
   "version": "3.13.2"
  }
 },
 "nbformat": 4,
 "nbformat_minor": 2
}
