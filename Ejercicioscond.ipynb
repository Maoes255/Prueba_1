{
 "cells": [
  {
   "cell_type": "code",
   "execution_count": 10,
   "metadata": {},
   "outputs": [
    {
     "name": "stdout",
     "output_type": "stream",
     "text": [
      "El número es menor a 10\n"
     ]
    }
   ],
   "source": [
    "# 1. Escribe un programa que pida al usuario un número. Si el número es mayor que 10, imprime \"El número es mayor que 10\".\n",
    "x=int(input(\"Escriba un número\"))\n",
    "if x>10:\n",
    "    print(\"El número es mayor a 10\")\n",
    "elif x==10:\n",
    "    print(\"El número es 10\")\n",
    "else:\n",
    "    print(\"El número es menor a 10\")"
   ]
  }
 ],
 "metadata": {
  "kernelspec": {
   "display_name": "Python 3",
   "language": "python",
   "name": "python3"
  },
  "language_info": {
   "codemirror_mode": {
    "name": "ipython",
    "version": 3
   },
   "file_extension": ".py",
   "mimetype": "text/x-python",
   "name": "python",
   "nbconvert_exporter": "python",
   "pygments_lexer": "ipython3",
   "version": "3.13.2"
  }
 },
 "nbformat": 4,
 "nbformat_minor": 2
}
